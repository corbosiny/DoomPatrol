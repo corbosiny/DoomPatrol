{
 "cells": [
  {
   "cell_type": "code",
   "execution_count": 8,
   "metadata": {},
   "outputs": [
    {
     "name": "stdout",
     "output_type": "stream",
     "text": [
      "0.777859777551\n"
     ]
    }
   ],
   "source": [
    "####################################################\n",
    "# Implement Gaussian Naive Bayes and cross validate\n",
    "# on training set with 10 folds. \n",
    "# Accuracy = 0.7778\n",
    "###################################################\n",
    "\n",
    "import setupData as sd\n",
    "from sklearn.naive_bayes import GaussianNB\n",
    "\n",
    "train_set = sd.load_train_data()\n",
    "answers = train_set['Survived']\n",
    "\n",
    "# Custom pipeline\n",
    "train_set = sd.cleanData(train_set)\n",
    "\n",
    "# Train model\n",
    "model = GaussianNB()\n",
    "model.fit(train_set, answers)\n",
    "from sklearn.model_selection import cross_val_score\n",
    "\n",
    "# Cross Validation of model\n",
    "scores = cross_val_score(model, train_set, answers, \n",
    "                         scoring=\"accuracy\", cv=10)\n",
    "print(sum(scores)/10)\n"
   ]
  },
  {
   "cell_type": "code",
   "execution_count": 26,
   "metadata": {},
   "outputs": [
    {
     "name": "stdout",
     "output_type": "stream",
     "text": [
      "0.784627454318\n"
     ]
    }
   ],
   "source": [
    "####################################################\n",
    "# Implement weighted Gaussian Naive Bayes and cross \n",
    "# validate on training set with 10 folds. \n",
    "# Sex Code triple weighted/ Fare double weighted\n",
    "# Accuracy = 0.7857\n",
    "###################################################\n",
    "\n",
    "import setupData as sd\n",
    "from sklearn.tree import DecisionTreeClassifier\n",
    "\n",
    "train_set = sd.load_train_data()\n",
    "answers = train_set['Survived']\n",
    "\n",
    "# Custom pipeline\n",
    "train_set = sd.cleanData(train_set)\n",
    "\n",
    "# Weight Sex Code and Fare\n",
    "train_set['Sex Code 2'] = train_set['Sex Code']\n",
    "train_set['Sex Code 3'] = train_set['Sex Code']\n",
    "train_set['Fare2'] = train_set['Fare']\n",
    "\n",
    "# Train model\n",
    "model = DecisionTreeClassifier()\n",
    "model.fit(train_set, answers)\n",
    "from sklearn.model_selection import cross_val_score\n",
    "\n",
    "# Cross Validation of model\n",
    "scores = cross_val_score(model, train_set, answers, \n",
    "                         scoring=\"accuracy\", cv=10)\n",
    "print(sum(scores)/10)\n"
   ]
  },
  {
   "cell_type": "code",
   "execution_count": 9,
   "metadata": {},
   "outputs": [
    {
     "name": "stdout",
     "output_type": "stream",
     "text": [
      "0.792467937805\n"
     ]
    }
   ],
   "source": [
    "####################################################\n",
    "# Implement Decision Tree Classifier and cross validate\n",
    "# on training set with 10 folds. \n",
    "# Accuracy = 0.7924\n",
    "###################################################\n",
    "\n",
    "import setupData as sd\n",
    "from sklearn.tree import DecisionTreeClassifier\n",
    "\n",
    "train_set = sd.load_train_data()\n",
    "answers = train_set['Survived']\n",
    "\n",
    "# Custom pipeline\n",
    "train_set = sd.cleanData(train_set)\n",
    "\n",
    "# Train model\n",
    "model = DecisionTreeClassifier()\n",
    "model.fit(train_set, answers)\n",
    "from sklearn.model_selection import cross_val_score\n",
    "\n",
    "# Cross Validation of model\n",
    "scores = cross_val_score(model, train_set, answers, \n",
    "                         scoring=\"accuracy\", cv=10)\n",
    "print(sum(scores)/10)"
   ]
  },
  {
   "cell_type": "code",
   "execution_count": 29,
   "metadata": {},
   "outputs": [
    {
     "name": "stdout",
     "output_type": "stream",
     "text": [
      "0.685935194643\n"
     ]
    }
   ],
   "source": [
    "####################################################\n",
    "# Implement MLP Classifier and cross validate\n",
    "# on training set with 10 folds. \n",
    "# Accuracy = 0.6859\n",
    "###################################################\n",
    "\n",
    "import setupData as sd\n",
    "from sklearn.neural_network import MLPClassifier\n",
    "\n",
    "train_set = sd.load_train_data()\n",
    "answers = train_set['Survived']\n",
    "\n",
    "# Custom pipeline\n",
    "train_set = sd.cleanData(train_set)\n",
    "\n",
    "# Train model\n",
    "model = MLPClassifier()\n",
    "model.fit(train_set, answers)\n",
    "from sklearn.model_selection import cross_val_score\n",
    "\n",
    "# Cross Validation of model\n",
    "scores = cross_val_score(model, train_set, answers, \n",
    "                         scoring=\"accuracy\", cv=10)\n",
    "print(sum(scores)/10)"
   ]
  },
  {
   "cell_type": "code",
   "execution_count": 30,
   "metadata": {},
   "outputs": [
    {
     "name": "stdout",
     "output_type": "stream",
     "text": [
      "0.777859777551\n"
     ]
    }
   ],
   "source": [
    "####################################################\n",
    "# Implement Bernoulli Naive Bayes and cross validate\n",
    "# on training set with 10 folds. \n",
    "# Accuracy = 0.7778\n",
    "###################################################\n",
    "\n",
    "import setupData as sd\n",
    "from sklearn.naive_bayes import GaussianNB\n",
    "\n",
    "train_set = sd.load_train_data()\n",
    "answers = train_set['Survived']\n",
    "\n",
    "# Custom pipeline\n",
    "train_set = sd.cleanData(train_set)\n",
    "\n",
    "# Train model\n",
    "model = GaussianNB()\n",
    "model.fit(train_set, answers)\n",
    "from sklearn.model_selection import cross_val_score\n",
    "\n",
    "# Cross Validation of model\n",
    "scores = cross_val_score(model, train_set, answers, \n",
    "                         scoring=\"accuracy\", cv=10)\n",
    "print(sum(scores)/10)"
   ]
  },
  {
   "cell_type": "code",
   "execution_count": 31,
   "metadata": {},
   "outputs": [
    {
     "name": "stdout",
     "output_type": "stream",
     "text": [
      "0.816088979684\n"
     ]
    }
   ],
   "source": [
    "####################################################\n",
    "# Implement Random Forest Classifier and cross validate\n",
    "# on training set with 10 folds. \n",
    "# Accuracy = 0.8161\n",
    "###################################################\n",
    "\n",
    "import setupData as sd\n",
    "from sklearn.ensemble import RandomForestClassifier\n",
    "\n",
    "train_set = sd.load_train_data()\n",
    "answers = train_set['Survived']\n",
    "\n",
    "# Custom pipeline\n",
    "train_set = sd.cleanData(train_set)\n",
    "\n",
    "# Train model\n",
    "model = RandomForestClassifier()\n",
    "model.fit(train_set, answers)\n",
    "from sklearn.model_selection import cross_val_score\n",
    "\n",
    "# Cross Validation of model\n",
    "scores = cross_val_score(model, train_set, answers, \n",
    "                         scoring=\"accuracy\", cv=10)\n",
    "print(sum(scores)/10)"
   ]
  },
  {
   "cell_type": "code",
   "execution_count": 34,
   "metadata": {},
   "outputs": [
    {
     "name": "stdout",
     "output_type": "stream",
     "text": [
      "0.711893371921\n"
     ]
    }
   ],
   "source": [
    "####################################################\n",
    "# Implement K Neighbors Classifier and cross validate\n",
    "# on training set with 10 folds. \n",
    "# Accuracy = 0.7119\n",
    "###################################################\n",
    "\n",
    "import setupData as sd\n",
    "from sklearn.neighbors import KNeighborsClassifier\n",
    "\n",
    "train_set = sd.load_train_data()\n",
    "answers = train_set['Survived']\n",
    "\n",
    "# Custom pipeline\n",
    "train_set = sd.cleanData(train_set)\n",
    "\n",
    "# Train model\n",
    "model = KNeighborsClassifier()\n",
    "model.fit(train_set, answers)\n",
    "from sklearn.model_selection import cross_val_score\n",
    "\n",
    "# Cross Validation of model\n",
    "scores = cross_val_score(model, train_set, answers, \n",
    "                         scoring=\"accuracy\", cv=10)\n",
    "print(sum(scores)/10)"
   ]
  },
  {
   "cell_type": "code",
   "execution_count": 36,
   "metadata": {},
   "outputs": [
    {
     "name": "stdout",
     "output_type": "stream",
     "text": [
      "0.690441209851\n"
     ]
    }
   ],
   "source": [
    "####################################################\n",
    "# Implement Multinomial NB and cross validate\n",
    "# on training set with 10 folds. \n",
    "# Accuracy = 0.6904\n",
    "###################################################\n",
    "\n",
    "import setupData as sd\n",
    "from sklearn.naive_bayes import MultinomialNB\n",
    "\n",
    "train_set = sd.load_train_data()\n",
    "answers = train_set['Survived']\n",
    "\n",
    "# Custom pipeline\n",
    "train_set = sd.cleanData(train_set)\n",
    "\n",
    "# Train model\n",
    "model = MultinomialNB()\n",
    "model.fit(train_set, answers)\n",
    "\n",
    "from sklearn.model_selection import cross_val_score\n",
    "\n",
    "# Cross Validation of model\n",
    "scores = cross_val_score(model, train_set, answers, \n",
    "                         scoring=\"accuracy\", cv=10)\n",
    "print(sum(scores)/10)"
   ]
  },
  {
   "cell_type": "code",
   "execution_count": null,
   "metadata": {},
   "outputs": [],
   "source": []
  }
 ],
 "metadata": {
  "kernelspec": {
   "display_name": "Python 3",
   "language": "python",
   "name": "python3"
  },
  "language_info": {
   "codemirror_mode": {
    "name": "ipython",
    "version": 3
   },
   "file_extension": ".py",
   "mimetype": "text/x-python",
   "name": "python",
   "nbconvert_exporter": "python",
   "pygments_lexer": "ipython3",
   "version": "3.6.3"
  }
 },
 "nbformat": 4,
 "nbformat_minor": 2
}
